{
  "nbformat": 4,
  "nbformat_minor": 0,
  "metadata": {
    "colab": {
      "provenance": [],
      "authorship_tag": "ABX9TyOxxNtVnDEBgSP8hn1vHWGS",
      "include_colab_link": true
    },
    "kernelspec": {
      "name": "python3",
      "display_name": "Python 3"
    },
    "language_info": {
      "name": "python"
    }
  },
  "cells": [
    {
      "cell_type": "markdown",
      "metadata": {
        "id": "view-in-github",
        "colab_type": "text"
      },
      "source": [
        "<a href=\"https://colab.research.google.com/github/aaditya19saini/challengequestion/blob/main/challengequestion.ipynb\" target=\"_parent\"><img src=\"https://colab.research.google.com/assets/colab-badge.svg\" alt=\"Open In Colab\"/></a>"
      ]
    },
    {
      "cell_type": "code",
      "execution_count": 13,
      "metadata": {
        "colab": {
          "base_uri": "https://localhost:8080/"
        },
        "id": "mG1w9A3Xr_Fb",
        "outputId": "b05d7c42-d3d4-404c-8018-38ccf8eb4b2d"
      },
      "outputs": [
        {
          "output_type": "stream",
          "name": "stdout",
          "text": [
            "['1', '2', '3', 'aman', 'ram', 'shyam']\n",
            "[1, 2, 3, 'aman', 'ram', 'shyam']\n"
          ]
        }
      ],
      "source": [
        "L=[\"ram\",1,\"shyam\",2,\"aman\",3]\n",
        "# M=[]\n",
        "# for i in L:\n",
        "#     if type(i)==int:\n",
        "#         L.remove(i)\n",
        "#         M.append(i)\n",
        "\n",
        "L=[str(i) for i in L]\n",
        "L.sort()\n",
        "L1=[]\n",
        "for i in L:\n",
        "  try:\n",
        "    L1.append(int(i))\n",
        "\n",
        "  except:\n",
        "      L1.append(i)\n",
        "print(L)\n",
        "\n",
        "print(L1)\n",
        "\n",
        "\n"
      ]
    }
  ]
}